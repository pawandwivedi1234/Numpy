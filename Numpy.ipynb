{
 "cells": [
  {
   "cell_type": "markdown",
   "id": "3babeac9-f754-40df-9f62-d9d438ddd76f",
   "metadata": {},
   "source": [
    "NUMPY \n",
    "A hands-on NumPy covering the basics to intermediate concepts of numerical computing with Python."
   ]
  },
  {
   "cell_type": "code",
   "execution_count": 2,
   "id": "c08b24bc-3d36-4235-bc20-1ea55dc12b41",
   "metadata": {},
   "outputs": [],
   "source": [
    "import numpy as np"
   ]
  },
  {
   "cell_type": "code",
   "execution_count": 3,
   "id": "1b43b484-7d0c-4033-b529-17de8200651c",
   "metadata": {},
   "outputs": [
    {
     "data": {
      "text/plain": [
       "array([[1, 2, 3, 4, 5]])"
      ]
     },
     "execution_count": 3,
     "metadata": {},
     "output_type": "execute_result"
    }
   ],
   "source": [
    "list = [1,2,3,4,5]\n",
    "arr = np.array([list])\n",
    "arr"
   ]
  },
  {
   "cell_type": "code",
   "execution_count": 4,
   "id": "66d37e57-326a-4826-b9b8-adc4697bca82",
   "metadata": {},
   "outputs": [
    {
     "data": {
      "text/plain": [
       "array([ 1,  3,  5,  7,  9, 11, 13, 15, 17, 19])"
      ]
     },
     "execution_count": 4,
     "metadata": {},
     "output_type": "execute_result"
    }
   ],
   "source": [
    "np.arange(1,20,2)\n"
   ]
  },
  {
   "cell_type": "code",
   "execution_count": 5,
   "id": "2b801b07-6b1e-4540-924e-38b14f0c49f0",
   "metadata": {},
   "outputs": [
    {
     "data": {
      "text/plain": [
       "array([[0., 0., 0., 0., 0., 0.],\n",
       "       [0., 0., 0., 0., 0., 0.],\n",
       "       [0., 0., 0., 0., 0., 0.],\n",
       "       [0., 0., 0., 0., 0., 0.],\n",
       "       [0., 0., 0., 0., 0., 0.]])"
      ]
     },
     "execution_count": 5,
     "metadata": {},
     "output_type": "execute_result"
    }
   ],
   "source": [
    "np.zeros((5,6))"
   ]
  },
  {
   "cell_type": "code",
   "execution_count": 6,
   "id": "f8aa4850-e406-4f88-a9af-1b4c268c4b2e",
   "metadata": {},
   "outputs": [
    {
     "data": {
      "text/plain": [
       "array([[1., 1.],\n",
       "       [1., 1.],\n",
       "       [1., 1.],\n",
       "       [1., 1.]])"
      ]
     },
     "execution_count": 6,
     "metadata": {},
     "output_type": "execute_result"
    }
   ],
   "source": [
    "np.ones((4,2))"
   ]
  },
  {
   "cell_type": "code",
   "execution_count": 7,
   "id": "65e0c9a6-e699-432c-ae6b-025c4947e62b",
   "metadata": {},
   "outputs": [
    {
     "data": {
      "text/plain": [
       "array([ 2.,  4.,  6.,  8., 10.])"
      ]
     },
     "execution_count": 7,
     "metadata": {},
     "output_type": "execute_result"
    }
   ],
   "source": [
    "np.linspace(2,10,5)"
   ]
  },
  {
   "cell_type": "code",
   "execution_count": 8,
   "id": "9c6321f4-9d17-4068-9de8-c5c076d0ae73",
   "metadata": {},
   "outputs": [
    {
     "data": {
      "text/plain": [
       "array([0.23358782, 0.3205596 , 0.51211099, 0.2512816 , 0.20167727])"
      ]
     },
     "execution_count": 8,
     "metadata": {},
     "output_type": "execute_result"
    }
   ],
   "source": [
    "np.random.rand(5)"
   ]
  },
  {
   "cell_type": "code",
   "execution_count": 9,
   "id": "99e08d9a-33af-4e9a-9293-c511973f4240",
   "metadata": {},
   "outputs": [
    {
     "data": {
      "text/plain": [
       "array([ 0.47971856, -1.37255863, -0.27192721,  1.60597906, -0.86502474])"
      ]
     },
     "execution_count": 9,
     "metadata": {},
     "output_type": "execute_result"
    }
   ],
   "source": [
    "np.random.randn(5)"
   ]
  },
  {
   "cell_type": "code",
   "execution_count": 10,
   "id": "aa5dc991-a7e4-4a8f-93e3-b1423baa572d",
   "metadata": {},
   "outputs": [
    {
     "data": {
      "text/plain": [
       "array([17, 13, 16])"
      ]
     },
     "execution_count": 10,
     "metadata": {},
     "output_type": "execute_result"
    }
   ],
   "source": [
    "arr = np.random.randint(12,24,3)\n",
    "arr"
   ]
  },
  {
   "cell_type": "code",
   "execution_count": 11,
   "id": "495f3d88-8acd-4db0-a158-eaf2378039de",
   "metadata": {},
   "outputs": [
    {
     "data": {
      "text/plain": [
       "array([[ 1,  2,  3,  4,  5,  6],\n",
       "       [ 7,  8,  9, 10, 11, 12],\n",
       "       [13, 14, 15, 16, 17, 18]])"
      ]
     },
     "execution_count": 11,
     "metadata": {},
     "output_type": "execute_result"
    }
   ],
   "source": [
    "arr = np.arange(1,19).reshape(3,6)\n",
    "arr"
   ]
  },
  {
   "cell_type": "code",
   "execution_count": 12,
   "id": "fda00962-5822-4d4e-b2ee-58f6c15145a3",
   "metadata": {},
   "outputs": [
    {
     "data": {
      "text/plain": [
       "(3, 6)"
      ]
     },
     "execution_count": 12,
     "metadata": {},
     "output_type": "execute_result"
    }
   ],
   "source": [
    "arr.shape"
   ]
  },
  {
   "cell_type": "code",
   "execution_count": 13,
   "id": "4a14f5ea-8b70-47d2-bb7c-bfae80b8a024",
   "metadata": {},
   "outputs": [
    {
     "data": {
      "text/plain": [
       "18"
      ]
     },
     "execution_count": 13,
     "metadata": {},
     "output_type": "execute_result"
    }
   ],
   "source": [
    "arr.size"
   ]
  },
  {
   "cell_type": "code",
   "execution_count": 14,
   "id": "c2341fc7-8077-422b-9fd1-c258c7d46913",
   "metadata": {},
   "outputs": [
    {
     "data": {
      "text/plain": [
       "18"
      ]
     },
     "execution_count": 14,
     "metadata": {},
     "output_type": "execute_result"
    }
   ],
   "source": [
    "arr.max()"
   ]
  },
  {
   "cell_type": "code",
   "execution_count": 15,
   "id": "4ac09ef6-58a2-43f1-9766-e803c4723ddf",
   "metadata": {},
   "outputs": [
    {
     "data": {
      "text/plain": [
       "1"
      ]
     },
     "execution_count": 15,
     "metadata": {},
     "output_type": "execute_result"
    }
   ],
   "source": [
    "arr.min()"
   ]
  },
  {
   "cell_type": "code",
   "execution_count": 16,
   "id": "d38736f9-d55e-4f8c-883f-a43908386dab",
   "metadata": {},
   "outputs": [
    {
     "data": {
      "text/plain": [
       "9.5"
      ]
     },
     "execution_count": 16,
     "metadata": {},
     "output_type": "execute_result"
    }
   ],
   "source": [
    "arr.mean()"
   ]
  },
  {
   "cell_type": "code",
   "execution_count": 17,
   "id": "a77bbe0a-1eb0-4829-b470-b7e79a5c690e",
   "metadata": {},
   "outputs": [
    {
     "data": {
      "text/plain": [
       "array([21, 57, 93])"
      ]
     },
     "execution_count": 17,
     "metadata": {},
     "output_type": "execute_result"
    }
   ],
   "source": [
    "np.sum(arr,axis =1)"
   ]
  },
  {
   "cell_type": "code",
   "execution_count": 18,
   "id": "b6d71a5e-5b5d-4cb2-933b-c206d6852efa",
   "metadata": {},
   "outputs": [
    {
     "data": {
      "text/plain": [
       "0"
      ]
     },
     "execution_count": 18,
     "metadata": {},
     "output_type": "execute_result"
    }
   ],
   "source": [
    "arr.argmin()"
   ]
  },
  {
   "cell_type": "code",
   "execution_count": 19,
   "id": "857cacf6-6dd8-4573-ae8b-9ec9409c51fb",
   "metadata": {},
   "outputs": [
    {
     "data": {
      "text/plain": [
       "17"
      ]
     },
     "execution_count": 19,
     "metadata": {},
     "output_type": "execute_result"
    }
   ],
   "source": [
    "arr.argmax()"
   ]
  },
  {
   "cell_type": "code",
   "execution_count": 20,
   "id": "a2314ff0-c2e8-450e-9088-9f8b7bc80956",
   "metadata": {},
   "outputs": [
    {
     "data": {
      "text/plain": [
       "array([29, 30, 31, 32, 33, 34, 35, 36, 37, 38, 39, 40, 41, 42, 43, 44, 45,\n",
       "       46, 47, 48])"
      ]
     },
     "execution_count": 20,
     "metadata": {},
     "output_type": "execute_result"
    }
   ],
   "source": [
    "arr = np.arange(29,49)\n",
    "arr"
   ]
  },
  {
   "cell_type": "code",
   "execution_count": 21,
   "id": "2c1ce22a-b8f8-42de-897f-e041a07b1bd8",
   "metadata": {},
   "outputs": [
    {
     "data": {
      "text/plain": [
       "33"
      ]
     },
     "execution_count": 21,
     "metadata": {},
     "output_type": "execute_result"
    }
   ],
   "source": [
    "arr[4]"
   ]
  },
  {
   "cell_type": "code",
   "execution_count": 22,
   "id": "1f31dab3-5478-43af-a5df-cae001cd2986",
   "metadata": {},
   "outputs": [
    {
     "data": {
      "text/plain": [
       "array([32, 33, 34, 35, 36])"
      ]
     },
     "execution_count": 22,
     "metadata": {},
     "output_type": "execute_result"
    }
   ],
   "source": [
    "arr[3:8]"
   ]
  },
  {
   "cell_type": "code",
   "execution_count": 23,
   "id": "09cd7218-398b-4bee-8aaa-8333363e6161",
   "metadata": {},
   "outputs": [
    {
     "data": {
      "text/plain": [
       "array([ 1,  2,  3,  4,  5,  6,  7,  8,  9, 10, 11, 12, 13, 14, 15, 16, 17,\n",
       "       18, 19, 20])"
      ]
     },
     "execution_count": 23,
     "metadata": {},
     "output_type": "execute_result"
    }
   ],
   "source": [
    "arr = np.arange(1,21)\n",
    "arr"
   ]
  },
  {
   "cell_type": "code",
   "execution_count": 24,
   "id": "789d39ff-e5ca-4895-b03b-33de9537b14b",
   "metadata": {},
   "outputs": [
    {
     "data": {
      "text/plain": [
       "array([False,  True, False,  True, False,  True, False,  True, False,\n",
       "        True, False,  True, False,  True, False,  True, False,  True,\n",
       "       False,  True])"
      ]
     },
     "execution_count": 24,
     "metadata": {},
     "output_type": "execute_result"
    }
   ],
   "source": [
    "bool_index = arr % 2 == 0\n",
    "bool_index"
   ]
  },
  {
   "cell_type": "code",
   "execution_count": 25,
   "id": "f0d01405-0e60-4193-a41e-4b24b9646e9b",
   "metadata": {},
   "outputs": [
    {
     "data": {
      "text/plain": [
       "array([ 2,  4,  6,  8, 10, 12, 14, 16, 18, 20])"
      ]
     },
     "execution_count": 25,
     "metadata": {},
     "output_type": "execute_result"
    }
   ],
   "source": [
    "arr = arr[bool_index]\n",
    "arr"
   ]
  },
  {
   "cell_type": "code",
   "execution_count": 26,
   "id": "ffe6edc0-8d20-4cf7-979b-aa7a2715c4ba",
   "metadata": {},
   "outputs": [
    {
     "data": {
      "text/plain": [
       "array([[ 1,  2,  3,  4,  5,  6],\n",
       "       [ 7,  8,  9, 10, 11, 12],\n",
       "       [13, 14, 15, 16, 17, 18],\n",
       "       [19, 20, 21, 22, 23, 24],\n",
       "       [25, 26, 27, 28, 29, 30]])"
      ]
     },
     "execution_count": 26,
     "metadata": {},
     "output_type": "execute_result"
    }
   ],
   "source": [
    "arr = np.arange(1,31).reshape(5,6)\n",
    "arr"
   ]
  },
  {
   "cell_type": "code",
   "execution_count": 27,
   "id": "82c84344-d501-47cb-b758-bfe3ec4c0174",
   "metadata": {},
   "outputs": [
    {
     "data": {
      "text/plain": [
       "array([[ 8,  9],\n",
       "       [14, 15],\n",
       "       [20, 21]])"
      ]
     },
     "execution_count": 27,
     "metadata": {},
     "output_type": "execute_result"
    }
   ],
   "source": [
    "arr[1:4,1:3]"
   ]
  },
  {
   "cell_type": "code",
   "execution_count": 28,
   "id": "73c83a83-6a33-4f5f-aace-b97bba0cc2fb",
   "metadata": {},
   "outputs": [
    {
     "data": {
      "text/plain": [
       "array([ 7,  9, 11, 13, 15])"
      ]
     },
     "execution_count": 28,
     "metadata": {},
     "output_type": "execute_result"
    }
   ],
   "source": [
    "arr1 = np.array([1,2,3,4,5])\n",
    "arr2 = np.array([6,7,8,9,10])\n",
    "sum = arr1+arr2\n",
    "sum"
   ]
  },
  {
   "cell_type": "code",
   "execution_count": 29,
   "id": "8a2193d0-fb25-4b0f-9081-e36522d52afc",
   "metadata": {},
   "outputs": [
    {
     "data": {
      "text/plain": [
       "array([20, 30, 40, 50])"
      ]
     },
     "execution_count": 29,
     "metadata": {},
     "output_type": "execute_result"
    }
   ],
   "source": [
    "slice=arr1[1:5]\n",
    "okay = slice*10\n",
    "okay"
   ]
  },
  {
   "cell_type": "code",
   "execution_count": 30,
   "id": "ab47dd62-7a01-4c78-b217-c018c8219d96",
   "metadata": {},
   "outputs": [],
   "source": [
    "arr3 = arr1.copy()"
   ]
  },
  {
   "cell_type": "code",
   "execution_count": 31,
   "id": "0a8bd375-e450-40ec-ad2d-e6bc463320a9",
   "metadata": {},
   "outputs": [],
   "source": [
    "arr3[0]=5"
   ]
  },
  {
   "cell_type": "code",
   "execution_count": 32,
   "id": "eaab88d5-7be8-410e-afb0-4efc743819ed",
   "metadata": {},
   "outputs": [
    {
     "data": {
      "text/plain": [
       "array([5, 2, 3, 4, 5])"
      ]
     },
     "execution_count": 32,
     "metadata": {},
     "output_type": "execute_result"
    }
   ],
   "source": [
    "arr3"
   ]
  },
  {
   "cell_type": "code",
   "execution_count": 33,
   "id": "52e7a0cc-6c77-4e7f-8f3d-a4b188a3939b",
   "metadata": {},
   "outputs": [
    {
     "data": {
      "text/plain": [
       "array([1, 2, 3, 4, 5])"
      ]
     },
     "execution_count": 33,
     "metadata": {},
     "output_type": "execute_result"
    }
   ],
   "source": [
    "arr1"
   ]
  },
  {
   "cell_type": "code",
   "execution_count": 34,
   "id": "42b0c5dc-6651-4ac5-92cb-453649039947",
   "metadata": {},
   "outputs": [
    {
     "data": {
      "text/plain": [
       "array([ 1,  2,  3,  4,  5,  6,  7,  8,  9, 10])"
      ]
     },
     "execution_count": 34,
     "metadata": {},
     "output_type": "execute_result"
    }
   ],
   "source": [
    "a = np.array([1,2,3,4,5])\n",
    "b = np.array([6,7,8,9,10])\n",
    "c = np.hstack((a,b))\n",
    "c"
   ]
  },
  {
   "cell_type": "code",
   "execution_count": 35,
   "id": "2298640f-b2a4-498c-96c3-dbf89f912f3d",
   "metadata": {},
   "outputs": [
    {
     "data": {
      "text/plain": [
       "array([[ 1,  2,  3,  4,  5],\n",
       "       [ 6,  7,  8,  9, 10]])"
      ]
     },
     "execution_count": 35,
     "metadata": {},
     "output_type": "execute_result"
    }
   ],
   "source": [
    "d = np.vstack((a,b))\n",
    "d"
   ]
  },
  {
   "cell_type": "code",
   "execution_count": 36,
   "id": "ff8545e4-d337-4613-bc58-23da84712ddc",
   "metadata": {},
   "outputs": [
    {
     "data": {
      "text/plain": [
       "array([[ 1,  6],\n",
       "       [ 2,  7],\n",
       "       [ 3,  8],\n",
       "       [ 4,  9],\n",
       "       [ 5, 10]])"
      ]
     },
     "execution_count": 36,
     "metadata": {},
     "output_type": "execute_result"
    }
   ],
   "source": [
    "e = np.column_stack((a,b))\n",
    "e"
   ]
  },
  {
   "cell_type": "code",
   "execution_count": 39,
   "id": "3e0dd89f-eb8d-4b56-a4a9-96bb4dc44200",
   "metadata": {},
   "outputs": [
    {
     "data": {
      "text/plain": [
       "array([[ 1,  2,  3,  4,  5,  6],\n",
       "       [ 7,  8,  9, 10, 11, 12],\n",
       "       [13, 14, 15, 16, 17, 18],\n",
       "       [19, 20, 21, 22, 23, 24],\n",
       "       [25, 26, 27, 28, 29, 30]])"
      ]
     },
     "execution_count": 39,
     "metadata": {},
     "output_type": "execute_result"
    }
   ],
   "source": [
    "g = np.arange(1,31).reshape(5,6)\n",
    "g"
   ]
  },
  {
   "cell_type": "code",
   "execution_count": 41,
   "id": "a9556cd5-b566-4422-8c02-aea08fd349e0",
   "metadata": {},
   "outputs": [
    {
     "data": {
      "text/plain": [
       "[array([[ 1],\n",
       "        [ 7],\n",
       "        [13],\n",
       "        [19],\n",
       "        [25]]),\n",
       " array([[ 2],\n",
       "        [ 8],\n",
       "        [14],\n",
       "        [20],\n",
       "        [26]]),\n",
       " array([[ 3],\n",
       "        [ 9],\n",
       "        [15],\n",
       "        [21],\n",
       "        [27]]),\n",
       " array([[ 4],\n",
       "        [10],\n",
       "        [16],\n",
       "        [22],\n",
       "        [28]]),\n",
       " array([[ 5],\n",
       "        [11],\n",
       "        [17],\n",
       "        [23],\n",
       "        [29]]),\n",
       " array([[ 6],\n",
       "        [12],\n",
       "        [18],\n",
       "        [24],\n",
       "        [30]])]"
      ]
     },
     "execution_count": 41,
     "metadata": {},
     "output_type": "execute_result"
    }
   ],
   "source": [
    "f = np.hsplit(g,6)\n",
    "f"
   ]
  },
  {
   "cell_type": "code",
   "execution_count": null,
   "id": "15ef4cc4-1e8c-4a53-8a2d-3af40f80fdfd",
   "metadata": {},
   "outputs": [],
   "source": [
    "f = np.vsplit(g,6)\n",
    "f"
   ]
  },
  {
   "cell_type": "markdown",
   "id": "cfc438be-9037-4de0-9705-65d5e11ace21",
   "metadata": {},
   "source": [
    "sudoku"
   ]
  },
  {
   "cell_type": "code",
   "execution_count": null,
   "id": "9ba3652d-3010-45be-b455-005e0a121b87",
   "metadata": {},
   "outputs": [],
   "source": [
    "s = np.array([\n",
    "    [5, 3, 4, 6, 7, 8, 9, 1, 2],\n",
    "    [6, 7, 2, 1, 9, 5, 3, 4, 8],\n",
    "    [1, 9, 8, 3, 4, 2, 5, 6, 7],\n",
    "    \n",
    "    [8, 5, 9, 7, 6, 1, 4, 2, 3],\n",
    "    [4, 2, 6, 8, 5, 3, 7, 9, 1],\n",
    "    [7, 1, 3, 9, 2, 4, 8, 5, 6],\n",
    "    \n",
    "    [9, 6, 1, 5, 3, 7, 2, 8, 4],\n",
    "    [2, 8, 7, 4, 1, 9, 6, 3, 5],\n",
    "    [3, 4, 5, 2, 8, 6, 1, 7, 9]\n",
    "])"
   ]
  },
  {
   "cell_type": "code",
   "execution_count": null,
   "id": "3b8ccea0-20b4-44e3-a44d-331205221e92",
   "metadata": {},
   "outputs": [],
   "source": [
    "add = np.sum(s,axis = 1)\n",
    "for i in add:\n",
    "    if i != 45:\n",
    "        print(\"sudoko is not valid\")\n",
    "else:\n",
    "    print(\"done from row side\")"
   ]
  },
  {
   "cell_type": "code",
   "execution_count": null,
   "id": "17fa8670-ffbc-4d03-8231-5e452a60e152",
   "metadata": {},
   "outputs": [],
   "source": [
    "add = np.sum(s,axis = 0)\n",
    "for i in add:\n",
    "    if i != 45:\n",
    "        print(\"sudoko is not valid\")\n",
    "else:\n",
    "    print(\"done from column side\")"
   ]
  },
  {
   "cell_type": "code",
   "execution_count": null,
   "id": "a23d61b3-f214-4da5-9eb1-6f0d402bb603",
   "metadata": {},
   "outputs": [],
   "source": [
    "q =s[:3,:3]\n",
    "q"
   ]
  },
  {
   "cell_type": "code",
   "execution_count": null,
   "id": "c226d1d9-318c-4258-a74d-650a81a4d79c",
   "metadata": {},
   "outputs": [],
   "source": [
    "q.sum()"
   ]
  },
  {
   "cell_type": "code",
   "execution_count": 43,
   "id": "40114827-93c0-4b89-951c-e354aeb94828",
   "metadata": {},
   "outputs": [],
   "source": [
    "import numpy as np\n",
    "\n",
    "# Columns: [Age, Math Marks, Science Marks]\n",
    "data = np.array([\n",
    "    [18, 85, 78],   # Student 1\n",
    "    [19, 92, 88],   # Student 2\n",
    "    [17, 76, 95],   # Student 3\n",
    "    [18, 65, 70],   # Student 4\n",
    "    [20, 90, 85]    # Student 5\n",
    "])"
   ]
  },
  {
   "cell_type": "markdown",
   "id": "58f35a81-6581-4803-869e-36eb968218db",
   "metadata": {},
   "source": [
    "Get the shape of the matrix."
   ]
  },
  {
   "cell_type": "code",
   "execution_count": 46,
   "id": "822592d3-8bd5-4576-8f99-cf437c2a77cb",
   "metadata": {},
   "outputs": [
    {
     "data": {
      "text/plain": [
       "(5, 3)"
      ]
     },
     "execution_count": 46,
     "metadata": {},
     "output_type": "execute_result"
    }
   ],
   "source": [
    "data.shape"
   ]
  },
  {
   "cell_type": "markdown",
   "id": "adaf8f8c-e145-47f2-9e3f-a6bd6bebf733",
   "metadata": {},
   "source": [
    "Find the average age of students."
   ]
  },
  {
   "cell_type": "code",
   "execution_count": 49,
   "id": "8067e8f2-3fe2-4332-bd14-e395d140b2d3",
   "metadata": {},
   "outputs": [],
   "source": [
    "age = data[0:,0:1]"
   ]
  },
  {
   "cell_type": "code",
   "execution_count": 51,
   "id": "23cb952f-9a07-4f17-ae2b-822543c6741f",
   "metadata": {},
   "outputs": [
    {
     "data": {
      "text/plain": [
       "18.4"
      ]
     },
     "execution_count": 51,
     "metadata": {},
     "output_type": "execute_result"
    }
   ],
   "source": [
    "avg = age.mean()\n",
    "avg"
   ]
  },
  {
   "cell_type": "markdown",
   "id": "91c22b4d-b544-4cb7-a7ba-95e24e4d18e5",
   "metadata": {},
   "source": [
    "Extract Math marks of all students."
   ]
  },
  {
   "cell_type": "code",
   "execution_count": 54,
   "id": "da013f00-965f-43d2-b5ab-ee4f7261291c",
   "metadata": {},
   "outputs": [
    {
     "data": {
      "text/plain": [
       "array([85, 92, 76, 65, 90])"
      ]
     },
     "execution_count": 54,
     "metadata": {},
     "output_type": "execute_result"
    }
   ],
   "source": [
    "maths_marks = data[:,1]\n",
    "maths_marks"
   ]
  },
  {
   "cell_type": "code",
   "execution_count": 56,
   "id": "c806bbe1-6af9-4bcc-9af3-f7134969aea4",
   "metadata": {},
   "outputs": [
    {
     "data": {
      "text/plain": [
       "95"
      ]
     },
     "execution_count": 56,
     "metadata": {},
     "output_type": "execute_result"
    }
   ],
   "source": [
    "#Find the highest Science mark.\n",
    "science_marks = data[:,2]\n",
    "np.max(science_marks)"
   ]
  },
  {
   "cell_type": "code",
   "execution_count": 58,
   "id": "4022fe80-a991-4082-b361-2cd2f041579b",
   "metadata": {},
   "outputs": [
    {
     "data": {
      "text/plain": [
       "array([[19, 92, 88]])"
      ]
     },
     "execution_count": 58,
     "metadata": {},
     "output_type": "execute_result"
    }
   ],
   "source": [
    "#Get details of the student who scored more than 90 in Math.\n",
    "data[data[:,1]>90]"
   ]
  },
  {
   "cell_type": "code",
   "execution_count": 60,
   "id": "b36b6f08-ddcc-4d3f-a244-bb4013220c88",
   "metadata": {},
   "outputs": [
    {
     "data": {
      "text/plain": [
       "array([90, 97, 81, 70, 95])"
      ]
     },
     "execution_count": 60,
     "metadata": {},
     "output_type": "execute_result"
    }
   ],
   "source": [
    "#Increase Math marks of all students by 5.\n",
    "increse_marks = data[:,1]+5\n",
    "increse_marks"
   ]
  },
  {
   "cell_type": "code",
   "execution_count": 62,
   "id": "4a2db43a-8beb-4a17-b80d-a13b5d8b3574",
   "metadata": {},
   "outputs": [
    {
     "data": {
      "text/plain": [
       "1"
      ]
     },
     "execution_count": 62,
     "metadata": {},
     "output_type": "execute_result"
    }
   ],
   "source": [
    "#Find how many students are younger than 19.˘\n",
    "len(data[data[:,0]>19])\n"
   ]
  },
  {
   "cell_type": "code",
   "execution_count": 64,
   "id": "31353360-60e1-498a-909c-035944966353",
   "metadata": {},
   "outputs": [
    {
     "data": {
      "text/plain": [
       "array([81.6, 83.2])"
      ]
     },
     "execution_count": 64,
     "metadata": {},
     "output_type": "execute_result"
    }
   ],
   "source": [
    "#Calculate the average marks in each subject (column-wise mean).\n",
    "np.mean(data[:,1:],axis=0)"
   ]
  },
  {
   "cell_type": "code",
   "execution_count": 66,
   "id": "9f5c17f4-0a09-47fa-be66-f4f7c007304a",
   "metadata": {},
   "outputs": [
    {
     "data": {
      "text/plain": [
       "array([[18, 85, 78],\n",
       "       [19, 92, 88],\n",
       "       [20, 90, 85]])"
      ]
     },
     "execution_count": 66,
     "metadata": {},
     "output_type": "execute_result"
    }
   ],
   "source": [
    "#Get data of students who scored at least 80 in both subjects.\n",
    "data[(data[:,1] >=80)&(data[:,1] >=80)]"
   ]
  },
  {
   "cell_type": "code",
   "execution_count": 87,
   "id": "ce318aa2-8310-4313-bb0f-ba5b9452fa30",
   "metadata": {},
   "outputs": [
    {
     "data": {
      "text/plain": [
       "array([[18, 85, 78],\n",
       "       [19, 92, 88],\n",
       "       [17, 76, 95],\n",
       "       [18, 65,  0],\n",
       "       [20, 90, 85]])"
      ]
     },
     "execution_count": 87,
     "metadata": {},
     "output_type": "execute_result"
    }
   ],
   "source": [
    "#Replace all Science marks < 75 with 0.\n",
    "data[:,2:][data[:,2:]<75]=0\n",
    "data"
   ]
  },
  {
   "cell_type": "code",
   "execution_count": null,
   "id": "99ebda3a-b6d3-4548-9201-7c92e2c8e5be",
   "metadata": {},
   "outputs": [],
   "source": []
  },
  {
   "cell_type": "code",
   "execution_count": null,
   "id": "79cb1b9c-9b74-437e-b963-2158d7f7df99",
   "metadata": {},
   "outputs": [],
   "source": []
  }
 ],
 "metadata": {
  "kernelspec": {
   "display_name": "Python 3 (ipykernel)",
   "language": "python",
   "name": "python3"
  },
  "language_info": {
   "codemirror_mode": {
    "name": "ipython",
    "version": 3
   },
   "file_extension": ".py",
   "mimetype": "text/x-python",
   "name": "python",
   "nbconvert_exporter": "python",
   "pygments_lexer": "ipython3",
   "version": "3.12.7"
  }
 },
 "nbformat": 4,
 "nbformat_minor": 5
}
